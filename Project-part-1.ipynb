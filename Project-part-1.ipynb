{
 "cells": [
  {
   "cell_type": "markdown",
   "metadata": {
    "tags": []
   },
   "source": [
    "# Self-Balancing Scooter Control\n",
    "\n",
    "![](images/self-balancing-scooter.png)\n",
    "\n",
    "> A self-balancing scooter [...] is a self-balancing personal transporter consisting of two motorized wheels connected to a pair of articulated pads on which the rider places their feet. The rider controls the speed by leaning forward or backward, and direction of travel by twisting the pads.\n",
    "> \n",
    "> Source: <https://en.wikipedia.org/wiki/Self-balancing_scooter>"
   ]
  },
  {
   "cell_type": "markdown",
   "metadata": {},
   "source": [
    "### Python Dependencies"
   ]
  },
  {
   "cell_type": "code",
   "execution_count": 1,
   "metadata": {},
   "outputs": [],
   "source": [
    "from numpy import *\n",
    "from numpy.linalg import *\n",
    "\n",
    "from scipy.linalg import *\n",
    "from scipy.integrate import *\n",
    "from scipy.signal import *\n",
    "\n",
    "from matplotlib.pyplot import *"
   ]
  },
  {
   "cell_type": "markdown",
   "metadata": {
    "tags": []
   },
   "source": [
    "Step 1 - Scooter Planar Model\n",
    "================================"
   ]
  },
  {
   "cell_type": "markdown",
   "metadata": {
    "tags": []
   },
   "source": [
    "### Introduction"
   ]
  },
  {
   "cell_type": "markdown",
   "metadata": {
    "tags": []
   },
   "source": [
    "We consider a simple model of a self-balancing scooter evolving in the plane. It is mainly made of\n",
    "\n",
    "  - The frame that contains the two articulated pads; from above, each pad essentially look like a triangle (one vertice in the center of the frame, one vertice at each extremity of the wheel).\n",
    "\n",
    "  - Two fixed wheels (their orientation with respect to the frame does not change). \n",
    "    They are parallel and located at opposite ends of the frame. \n",
    "    \n",
    "Let $(0, e_x, e_y)$ be a direct orthonormal frame of the plane. We denote \n",
    "\n",
    "  - $(x, y)$ the coordinates of the wheel axis center in the orthonormal and \n",
    "  - $\\theta$ the angle of the wheels direction with respect to vector $e_x$ ; with $\\theta = 0$ when the front of the scooter faces the right ($e_x$) and $\\theta = \\pi/2$ when it faces upwards ($e_y$).\n",
    "\n",
    "  - $\\phi_l$ and $\\phi_r$ the rotation angles of the left and right wheel respectively ; by convention, when these angles increase, the scooter moves forward."
   ]
  },
  {
   "cell_type": "markdown",
   "metadata": {
    "tags": []
   },
   "source": [
    "### Parameter Definition"
   ]
  },
  {
   "cell_type": "markdown",
   "metadata": {
    "tags": []
   },
   "source": [
    "From now on, we assume that the seat frame length is $\\ell = 50 \\mbox{ cm}$ and the wheel radius is $r = 12.5 \\mbox{ cm}$.\n",
    "\n",
    "🧩 Define the corresponding Python variables `l` and `r` (express every length in meters, and more generally in the sequel, always use the [international standard of units](https://en.wikipedia.org/wiki/SI_derived_unit)) for numerical values. "
   ]
  },
  {
   "cell_type": "code",
   "execution_count": null,
   "metadata": {},
   "outputs": [],
   "source": [
    "l=0.5\n",
    "r=0.125"
   ]
  },
  {
   "cell_type": "markdown",
   "metadata": {},
   "source": [
    "### Graphical Representation\n",
    "\n",
    "🧩 Implement a function `draw_scooter` with arguments `x`, `y` and `theta` that draws a simple geometric model of the wheelchair (with a red frame and black fixed wheels) in the plane (top view) for arbitrary values of $(x, y)$ and $\\theta$. Use a green circle marker 50 cm in of the frame to indicate which way is forward.\n",
    "\n",
    "🗝️ **Hint.** Use the function `plot` of `matplotlib.pyplot`."
   ]
  },
  {
   "cell_type": "code",
   "execution_count": 8,
   "metadata": {},
   "outputs": [
    {
     "data": {
      "image/png": "[encoded data removed]",
      "text/plain": [
       "<Figure size 640x480 with 1 Axes>"
      ]
     },
     "metadata": {},
     "output_type": "display_data"
    }
   ],
   "source": [
    "import matplotlib.pyplot as plt\n",
    "import numpy as np\n",
    "\n",
    "def draw_scooter(x, y, theta1):\n",
    "    # Define the frame of the scooter (length) and wheel radius\n",
    "    frame_length = 0.5  # 50 cm\n",
    "    wheel_radius = 0.125  # 12.5 cm\n",
    "    \n",
    "    # Define the shape of the pads as isosceles triangles\n",
    "    pad_width = 0.5  # Width of the pad at the base\n",
    "    theta = np.pi/2 - theta1\n",
    "    # Pad vertices: base vertices at the wheel positions and the top vertex at the center\n",
    "    pad_left = np.array([\n",
    "        [-frame_length / 2, -wheel_radius],\n",
    "        [-frame_length / 2, wheel_radius],\n",
    "        [0, 0]\n",
    "    ])\n",
    "    \n",
    "    pad_right = np.array([\n",
    "        [frame_length / 2, -wheel_radius],\n",
    "        [frame_length / 2, wheel_radius],\n",
    "        [0, 0]\n",
    "    ])\n",
    "    \n",
    "    # Define the wheels positions (fixed at the ends of the frame)\n",
    "    wheels = np.array([\n",
    "        [-frame_length / 2, -wheel_radius],\n",
    "        [-frame_length / 2, wheel_radius],\n",
    "        [frame_length / 2, -wheel_radius],\n",
    "        [frame_length / 2, wheel_radius]\n",
    "    ])\n",
    "    \n",
    "    # Compute the position of the center of the wheelchair\n",
    "    wheelchair_center = [x, y]\n",
    "    \n",
    "    # Define the forward marker position (aligned with the center of the wheelchair)\n",
    "    forward_marker = [x, y + 0.5]\n",
    "    \n",
    "    # Rotation matrix for angle theta\n",
    "    R = np.array([\n",
    "        [np.cos(theta), -np.sin(theta)],\n",
    "        [np.sin(theta), np.cos(theta)]\n",
    "    ])\n",
    "    \n",
    "    # Rotate and translate the pads, wheels and marker\n",
    "    pad_left = np.dot(pad_left, R) + wheelchair_center\n",
    "    pad_right = np.dot(pad_right, R) + wheelchair_center\n",
    "    wheels = np.dot(wheels, R) + wheelchair_center\n",
    "    forward_marker = [x + 0.5*cos(theta1), y + 0.5*sin(theta1)]\n",
    "    \n",
    "    # Plot the pads\n",
    "    plt.fill(pad_left[:, 0], pad_left[:, 1], 'r')\n",
    "    plt.fill(pad_right[:, 0], pad_right[:, 1], 'r')\n",
    "    \n",
    "    # Plot the wheels\n",
    "    plt.plot(wheels[0:2, 0], wheels[0:2, 1], 'k', linewidth=6)\n",
    "    plt.plot(wheels[2:4, 0], wheels[2:4, 1], 'k', linewidth=6)\n",
    "    \n",
    "    # Plot the forward marker\n",
    "    plt.plot(forward_marker[0], forward_marker[1], 'go', markersize=10)\n",
    "    \n",
    "    # Set the aspect ratio to equal and set the limits\n",
    "    plt.gca().set_aspect('equal', adjustable='box')\n",
    "    plt.xlim(x - 1, x + 1)\n",
    "    plt.ylim(y - 1, y + 1)\n",
    "    \n",
    "    # Show the plot\n",
    "    plt.grid(True)\n",
    "    plt.show()\n",
    "\n",
    "# Example usage\n",
    "draw_scooter(2, 3, np.pi/6)  # Position (0,0) and 45 degrees rotation"
   ]
  },
  {
   "cell_type": "markdown",
   "metadata": {},
   "source": [
    "🧩 Represent the wheelchair when $(x, y, \\theta) = (0, 0, 0), (2, 2, \\pi/2), (0, 4, \\pi), (-2, 2, 3\\pi/2)$.\n",
    "\n",
    "🗝️ **Hint.** Use the following `draw_arena` function beforehand."
   ]
  },
  {
   "cell_type": "code",
   "execution_count": 9,
   "metadata": {},
   "outputs": [],
   "source": [
    "def draw_arena(xmin, xmax, ymin, ymax):\n",
    "    wh_ratio = (xmax - xmin) / (ymax - ymin)\n",
    "    figsize = fig_width, fig_height = 16, 16 / wh_ratio\n",
    "    figure(figsize=figsize)\n",
    "    axes = gca()\n",
    "    axes.axis([xmin, xmax, ymin, ymax])\n",
    "    axes.set_aspect(1)\n",
    "    xticks(arange(xmin, xmax+1, 1))\n",
    "    yticks(arange(ymin, ymax+1, 1))\n",
    "    grid(True)"
   ]
  },
  {
   "cell_type": "code",
   "execution_count": 11,
   "metadata": {},
   "outputs": [
    {
     "data": {
      "image/png": "[encoded data removed]",
      "text/plain": [
       "<Figure size 1600x1600 with 1 Axes>"
      ]
     },
     "metadata": {},
     "output_type": "display_data"
    }
   ],
   "source": [
    "import matplotlib.pyplot as plt\n",
    "import numpy as np\n",
    "\n",
    "# Define the draw_arena function\n",
    "def draw_arena(xmin, xmax, ymin, ymax):\n",
    "    wh_ratio = (xmax - xmin) / (ymax - ymin)\n",
    "    figsize = fig_width, fig_height = 16, 16 / wh_ratio\n",
    "    plt.figure(figsize=figsize)\n",
    "    axes = plt.gca()\n",
    "    axes.axis([xmin, xmax, ymin, ymax])\n",
    "    axes.set_aspect(1)\n",
    "    plt.xticks(np.arange(xmin, xmax+1, 1))\n",
    "    plt.yticks(np.arange(ymin, ymax+1, 1))\n",
    "    plt.grid(True)\n",
    "\n",
    "# Define the draw_scooter function\n",
    "def draw_scooter(x, y, theta1):\n",
    "    frame_length = 0.5  # 50 cm\n",
    "    wheel_radius = 0.125  # 12.5 cm\n",
    "    pad_width = 0.5\n",
    "    \n",
    "    theta = np.pi/2 - theta1\n",
    "    \n",
    "    pad_left = np.array([\n",
    "        [-frame_length / 2, -wheel_radius],\n",
    "        [-frame_length / 2, wheel_radius],\n",
    "        [0, 0]\n",
    "    ])\n",
    "    \n",
    "    pad_right = np.array([\n",
    "        [frame_length / 2, -wheel_radius],\n",
    "        [frame_length / 2, wheel_radius],\n",
    "        [0, 0]\n",
    "    ])\n",
    "    \n",
    "    wheels = np.array([\n",
    "        [-frame_length / 2, -wheel_radius],\n",
    "        [-frame_length / 2, wheel_radius],\n",
    "        [frame_length / 2, -wheel_radius],\n",
    "        [frame_length / 2, wheel_radius]\n",
    "    ])\n",
    "    \n",
    "    wheelchair_center = [x, y]\n",
    "    forward_marker = [x + 0.5 * np.cos(theta1), y + 0.5 * np.sin(theta1)]\n",
    "    \n",
    "    R = np.array([\n",
    "        [np.cos(theta), -np.sin(theta)],\n",
    "        [np.sin(theta), np.cos(theta)]\n",
    "    ])\n",
    "    \n",
    "    pad_left = np.dot(pad_left, R) + wheelchair_center\n",
    "    pad_right = np.dot(pad_right, R) + wheelchair_center\n",
    "    wheels = np.dot(wheels, R) + wheelchair_center\n",
    "    \n",
    "    plt.fill(pad_left[:, 0], pad_left[:, 1], 'r')\n",
    "    plt.fill(pad_right[:, 0], pad_right[:, 1], 'r')\n",
    "    plt.plot(wheels[0:2, 0], wheels[0:2, 1], 'k', linewidth=6)\n",
    "    plt.plot(wheels[2:4, 0], wheels[2:4, 1], 'k', linewidth=6)\n",
    "    plt.plot(forward_marker[0], forward_marker[1], 'go', markersize=10)\n",
    "\n",
    "# Call draw_arena function to set up the plot\n",
    "draw_arena(-5, 5, -5, 5)\n",
    "\n",
    "# Call draw_scooter function for each position and orientation\n",
    "positions = [(0, 0, 0), (2, 2, np.pi/2), (0, 4, np.pi), (-2, 2, 3*np.pi/2)]\n",
    "for pos in positions:\n",
    "    draw_scooter(*pos)\n",
    "\n",
    "plt.gca().set_aspect('equal', adjustable='box')\n",
    "plt.xlim(-5, 5)\n",
    "plt.ylim(-1, 5)\n",
    "plt.grid(True)\n",
    "plt.show()"
   ]
  },
  {
   "cell_type": "markdown",
   "metadata": {},
   "source": [
    "### Kinematic Modeling\n",
    "\n",
    "We assume that we can control the wheels angular velocities $\\omega_l = \\dot{\\phi}_l$ and $\\omega_r = \\dot{\\phi}_r$ (this is a *kinematic* model of the wheelchair).\n",
    "We also assume that the wheelchair fixed wheels roll without slipping. \n",
    "\n",
    "🧩 Establish the differential equations that relate $\\dot{x}$,\n",
    "$\\dot{y}$ and $\\dot{\\theta}$ with $\\omega_l$ and $\\omega_r$."
   ]
  },
  {
   "cell_type": "markdown",
   "metadata": {},
   "source": [
    "$\\dot{x}$=r/l($\\omega_r$+$\\omega_l$)Cos($\\theta$)\n",
    "\n",
    "$\\dot{y}$=r/l($\\omega_r$+$\\omega_l$)Sin($\\theta$)\n",
    "\n",
    "$\\dot{\\theta}$=r/l($\\omega_r$-$\\omega_l$)"
   ]
  },
  {
   "cell_type": "markdown",
   "metadata": {},
   "source": [
    "### Analysis\n",
    "\n",
    "🧩 Show that if $\\omega_l$ and $\\omega_r$ are continuously differentiable functions of $(x, y, \\theta)$ (which includes the case of constant inputs), this system is well-posed."
   ]
  },
  {
   "cell_type": "markdown",
   "metadata": {},
   "source": []
  },
  {
   "cell_type": "markdown",
   "metadata": {},
   "source": [
    "🧩 Show that if $\\omega_l$ and $\\omega_r$ are constants, the maximal solution associated to any initial state is global. Is is still true of $\\omega_l$ and $\\omega_r$ are arbitrary continuously differentiable functions of $(x, y, \\theta)$ ?"
   ]
  },
  {
   "cell_type": "markdown",
   "metadata": {},
   "source": [
    "**TODO**"
   ]
  },
  {
   "cell_type": "markdown",
   "metadata": {},
   "source": [
    "### Vector Field\n",
    "\n",
    "In the sequel, `omega` is a function that computes the input vector $\\omega := (\\omega_l, \\omega_r)$ given the time $t$ and $(x, y, \\theta)$ (thus, it may depend on the time and/or on the system state if needed). For example:"
   ]
  },
  {
   "cell_type": "code",
   "execution_count": null,
   "metadata": {},
   "outputs": [],
   "source": [
    "def omega(t, xytheta):\n",
    "    omega_l = (1 - l/4) * pi / r\n",
    "    omega_r = (1 + l/4) * pi / r\n",
    "    return array([omega_l, omega_r])"
   ]
  },
  {
   "cell_type": "markdown",
   "metadata": {},
   "source": [
    "🧩 Implement a function `fun(t, xytheta)` that computes $(\\dot{x}, \\dot{y}, \\dot{\\theta})$ given the time $t$ and $(x,y,\\theta)$ (and implicitly the inputs $\\omega$ computed by the function `omega`)."
   ]
  },
  {
   "cell_type": "code",
   "execution_count": null,
   "metadata": {},
   "outputs": [],
   "source": [
    "pass"
   ]
  },
  {
   "cell_type": "markdown",
   "metadata": {},
   "source": [
    "### Simulation Setup\n",
    "\n",
    "🧩 Simulate the wheelchair dynamics for 4 seconds when $(x_0, y_0, \\theta_0)(t=0) = (0.0, 0.0, 0.0)$,\n",
    "and the wheels velocities are the constants $\\omega_l = (1 - \\ell/4)  \\pi / r \\mbox{ rad/s}$ and $\\omega_r = (1 + \\ell/4)  \\pi / r \\mbox{ rad/s}$.\n",
    "(Compute the dense outputs.)\n",
    "   "
   ]
  },
  {
   "cell_type": "code",
   "execution_count": null,
   "metadata": {},
   "outputs": [],
   "source": [
    "pass"
   ]
  },
  {
   "cell_type": "markdown",
   "metadata": {},
   "source": [
    "🧩 Use the simulation results to draw the graphs of $x(t)$, $y(t)$ and $\\theta(t)$."
   ]
  },
  {
   "cell_type": "code",
   "execution_count": null,
   "metadata": {},
   "outputs": [],
   "source": [
    "pass"
   ]
  },
  {
   "cell_type": "markdown",
   "metadata": {},
   "source": [
    "🧩 Use the simulation results to display the robot location every 0.5 second."
   ]
  },
  {
   "cell_type": "code",
   "execution_count": null,
   "metadata": {},
   "outputs": [],
   "source": [
    "pass"
   ]
  },
  {
   "cell_type": "markdown",
   "metadata": {},
   "source": [
    "🧩 What should be the analytical expression of $x(t)$, $y(t)$ and $\\theta(t)$? "
   ]
  },
  {
   "cell_type": "markdown",
   "metadata": {},
   "source": [
    "**TODO**"
   ]
  },
  {
   "cell_type": "markdown",
   "metadata": {},
   "source": [
    "🧩 Do you experimental results match the theoretical results ? Draw the curves of the simulation error at time $t$ for $x$, $y$ and $\\theta$."
   ]
  },
  {
   "cell_type": "code",
   "execution_count": null,
   "metadata": {},
   "outputs": [],
   "source": [
    "pass"
   ]
  },
  {
   "cell_type": "markdown",
   "metadata": {},
   "source": [
    "🧩 If needed, adjust the simulation parameters the simulated position error is less than $1\\, \\mathrm{ mm}$. "
   ]
  },
  {
   "cell_type": "code",
   "execution_count": null,
   "metadata": {},
   "outputs": [],
   "source": [
    "pass"
   ]
  }
 ],
 "metadata": {
  "kernelspec": {
   "display_name": "Python 3 (ipykernel)",
   "language": "python",
   "name": "python3"
  },
  "language_info": {
   "codemirror_mode": {
    "name": "ipython",
    "version": 3
   },
   "file_extension": ".py",
   "mimetype": "text/x-python",
   "name": "python",
   "nbconvert_exporter": "python",
   "pygments_lexer": "ipython3",
   "version": "3.9.19"
  }
 },
 "nbformat": 4,
 "nbformat_minor": 4
}
